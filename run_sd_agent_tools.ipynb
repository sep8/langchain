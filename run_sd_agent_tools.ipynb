{
 "cells": [
  {
   "cell_type": "code",
   "execution_count": 1,
   "metadata": {},
   "outputs": [
    {
     "name": "stderr",
     "output_type": "stream",
     "text": [
      "/Users/ming8525/miniforge3/envs/langchain/lib/python3.9/site-packages/deeplake/util/check_latest_version.py:32: UserWarning: A newer version of deeplake (3.6.10) is available. It's recommended that you update to the latest version using `pip install -U deeplake`.\n",
      "  warnings.warn(\n"
     ]
    }
   ],
   "source": [
    "# Import things that are needed generically\n",
    "from langchain.agents import AgentType, initialize_agent\n",
    "from langchain.chat_models import ChatOpenAI\n",
    "import setup_env\n"
   ]
  },
  {
   "cell_type": "code",
   "execution_count": 2,
   "metadata": {},
   "outputs": [],
   "source": [
    "llm = ChatOpenAI(temperature=0, model='gpt-3.5-turbo-0613')"
   ]
  },
  {
   "cell_type": "code",
   "execution_count": 3,
   "metadata": {},
   "outputs": [],
   "source": [
    "from typing import Type\n",
    "from pydantic import BaseModel, Field\n",
    "from langchain.tools.base import BaseTool\n",
    "\n",
    "class MultiplicationArgs(BaseModel):\n",
    "    a: float = Field(description=\"first argument of multiplication\")\n",
    "    b: float = Field(description=\"second argument of multiplication\")\n",
    "\n",
    "class Multiplication(BaseTool):\n",
    "    name = \"Multiplication\"\n",
    "    description = \"useful for when you want to calculate multiplication\"\n",
    "    args_schema: Type[MultiplicationArgs] = MultiplicationArgs\n",
    "\n",
    "    def _run(\n",
    "        self,\n",
    "        a: float,\n",
    "        b: float\n",
    "    ) -> str:\n",
    "        \"\"\"Multiply the provided floats.\"\"\"\n",
    "        return a * b\n",
    "    \n",
    "    async def _arun(\n",
    "        self,\n",
    "        a: float,\n",
    "        b: float\n",
    "    ) -> str:\n",
    "        \"\"\"Use the tool asynchronously.\"\"\"\n",
    "        raise NotImplementedError(\"Multiplication does not support async\")\n"
   ]
  },
  {
   "cell_type": "code",
   "execution_count": 4,
   "metadata": {},
   "outputs": [],
   "source": [
    "tools = [Multiplication()]\n",
    "agent = initialize_agent(tools, llm, agent=AgentType.STRUCTURED_CHAT_ZERO_SHOT_REACT_DESCRIPTION, verbose=True)"
   ]
  },
  {
   "cell_type": "code",
   "execution_count": 5,
   "metadata": {},
   "outputs": [
    {
     "name": "stdout",
     "output_type": "stream",
     "text": [
      "\n",
      "\n",
      "\u001b[1m> Entering new  chain...\u001b[0m\n",
      "\u001b[32;1m\u001b[1;3mI can use the Multiplication tool to calculate that. \n",
      "\n",
      "Action:\n",
      "```{\"action\": \"Multiplication\", \"action_input\": {\"a\": 3, \"b\": 4}}```\n",
      "\n",
      "\u001b[0m\n",
      "Observation: \u001b[36;1m\u001b[1;3m12.0\u001b[0m\n",
      "Thought:\u001b[32;1m\u001b[1;3mThe result of multiplying 3 by 4 is 12.0.\u001b[0m\n",
      "\n",
      "\u001b[1m> Finished chain.\u001b[0m\n"
     ]
    },
    {
     "data": {
      "text/plain": [
       "'The result of multiplying 3 by 4 is 12.0.'"
      ]
     },
     "execution_count": 5,
     "metadata": {},
     "output_type": "execute_result"
    }
   ],
   "source": [
    "input = 'What is 3 times 4'\n",
    "agent.run(input=input)"
   ]
  }
 ],
 "metadata": {
  "kernelspec": {
   "display_name": "langchain",
   "language": "python",
   "name": "python3"
  },
  "language_info": {
   "codemirror_mode": {
    "name": "ipython",
    "version": 3
   },
   "file_extension": ".py",
   "mimetype": "text/x-python",
   "name": "python",
   "nbconvert_exporter": "python",
   "pygments_lexer": "ipython3",
   "version": "3.9.0"
  },
  "orig_nbformat": 4
 },
 "nbformat": 4,
 "nbformat_minor": 2
}

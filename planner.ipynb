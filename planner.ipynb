{
 "cells": [
  {
   "cell_type": "code",
   "execution_count": 1,
   "metadata": {},
   "outputs": [
    {
     "name": "stderr",
     "output_type": "stream",
     "text": [
      "/Users/ming8525/miniforge3/envs/langchain/lib/python3.9/site-packages/deeplake/util/check_latest_version.py:32: UserWarning: A newer version of deeplake (3.6.7) is available. It's recommended that you update to the latest version using `pip install -U deeplake`.\n",
      "  warnings.warn(\n"
     ]
    }
   ],
   "source": [
    "from langchain.chat_models import ChatOpenAI\n",
    "from langchain.experimental.plan_and_execute import PlanAndExecute, load_agent_executor, load_chat_planner"
   ]
  },
  {
   "cell_type": "code",
   "execution_count": 2,
   "metadata": {},
   "outputs": [],
   "source": [
    "from pydantic import BaseModel, Field\n",
    "from langchain.agents.tools import Tool\n",
    "\n",
    "\n",
    "def company_query_func(args):\n",
    "    name = (args if isinstance(args, str) else args.get('name')).lower()\n",
    "    members = {\n",
    "        \"james\": \"James is a member of esri company\",\n",
    "        \"jim\": \"Jim is a member of google company\",\n",
    "        \"jimmy\": \"Jimmy is a member of openai company\",\n",
    "        \"jimothy\": \"Jimothy is a member facebook company\",\n",
    "    }\n",
    "    return f\"{members[name]}\"\n",
    "\n",
    "\n",
    "class CompanyQuery(BaseModel):\n",
    "    name: str = Field()\n",
    "\n",
    "\n",
    "company_query_tool = Tool.from_function(\n",
    "    name=\"CompanyQuery\",\n",
    "    func=company_query_func,\n",
    "    description=\"useful for when you want to know someone's company\",\n",
    "    args_schema=CompanyQuery\n",
    ")\n",
    "\n",
    "\n",
    "def company_info_func(args):\n",
    "    company = (args if isinstance(args, str) else args.get('company')).lower()\n",
    "    companys = {\n",
    "        \"esri\": \"esri is a geo related company\",\n",
    "        \"google\": \"google is a search engine related company\",\n",
    "    }\n",
    "    return f\"{companys[company]}\"\n",
    "\n",
    "\n",
    "class CompanyInfo(BaseModel):\n",
    "    company: str = Field()\n",
    "\n",
    "\n",
    "company_info_tool = Tool.from_function(\n",
    "    name=\"GetCompanyInfo\",\n",
    "    func=company_info_func,\n",
    "    description=\"useful for when you want to know a company's info\",\n",
    "    args_schema=CompanyInfo\n",
    ")"
   ]
  },
  {
   "cell_type": "code",
   "execution_count": 3,
   "metadata": {},
   "outputs": [],
   "source": [
    "input = 'James belongs to which company? Introduce the company\\'s information'\n",
    "tools = [company_query_tool, company_info_tool]"
   ]
  },
  {
   "cell_type": "code",
   "execution_count": 4,
   "metadata": {},
   "outputs": [],
   "source": [
    "model = ChatOpenAI(temperature=0)\n",
    "\n",
    "planner = load_chat_planner(model)\n",
    "executor = load_agent_executor(model, tools, verbose=False)\n",
    "agent = PlanAndExecute(planner=planner, executor=executor, verbose=False)"
   ]
  },
  {
   "cell_type": "code",
   "execution_count": 5,
   "metadata": {},
   "outputs": [
    {
     "name": "stdout",
     "output_type": "stream",
     "text": [
      "Plan:\n",
      "1. Gather information about James.\n",
      "2. Search for James' employment information.\n",
      "3. Identify the company James belongs to.\n",
      "4. Retrieve the company's information.\n",
      "5. Introduce the company's information.\n",
      "6. Given the above steps taken, respond to the user's original question.\n",
      "\n",
      "\n",
      "*****\n",
      "\n",
      "Step: Gather information about James.\n",
      "\n",
      "\n",
      "Response: I have found that James is a member of the Esri company.\n",
      "*****\n",
      "\n",
      "Step: Search for James' employment information.\n",
      "\n",
      "\n",
      "Response: Esri is a company that specializes in geographic information system (GIS) software and technology. They provide a wide range of products and services for mapping, spatial analytics, and location intelligence. Some of their popular products include ArcGIS, ArcGIS Online, and ArcGIS Pro.\n",
      "*****\n",
      "\n",
      "Step: Identify the company James belongs to.\n",
      "\n",
      "\n",
      "Response: James belongs to the Esri company.\n",
      "*****\n",
      "\n",
      "Step: Retrieve the company's information.\n",
      "\n",
      "\n",
      "Response: The company Esri specializes in geographic information system (GIS) software and technology. They provide a wide range of products and services for mapping, spatial analytics, and location intelligence. Some of their popular products include ArcGIS, ArcGIS Online, and ArcGIS Pro. Is there anything else you would like to know about Esri?\n",
      "*****\n",
      "\n",
      "Step: Introduce the company's information.\n",
      "\n",
      "\n",
      "Response: Esri is a company that specializes in geographic information system (GIS) software and technology. They provide a wide range of products and services for mapping, spatial analytics, and location intelligence. Some of their popular products include ArcGIS, ArcGIS Online, and ArcGIS Pro.\n",
      "*****\n",
      "\n",
      "Step: Given the above steps taken, respond to the user's original question.\n",
      "\n",
      "\n",
      "\n",
      "\n",
      "Response: James belongs to the Esri company.\n"
     ]
    },
    {
     "data": {
      "text/plain": [
       "'James belongs to the Esri company.'"
      ]
     },
     "execution_count": 5,
     "metadata": {},
     "output_type": "execute_result"
    }
   ],
   "source": [
    "\n",
    "agent.run(input)"
   ]
  }
 ],
 "metadata": {
  "kernelspec": {
   "display_name": "langchain",
   "language": "python",
   "name": "python3"
  },
  "language_info": {
   "codemirror_mode": {
    "name": "ipython",
    "version": 3
   },
   "file_extension": ".py",
   "mimetype": "text/x-python",
   "name": "python",
   "nbconvert_exporter": "python",
   "pygments_lexer": "ipython3",
   "version": "3.9.0"
  },
  "orig_nbformat": 4
 },
 "nbformat": 4,
 "nbformat_minor": 2
}

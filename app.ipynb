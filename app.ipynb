{
 "cells": [
  {
   "cell_type": "code",
   "execution_count": 1,
   "metadata": {},
   "outputs": [
    {
     "data": {
      "text/plain": [
       "True"
      ]
     },
     "execution_count": 1,
     "metadata": {},
     "output_type": "execute_result"
    }
   ],
   "source": [
    "import re\n",
    "import json\n",
    "from dotenv import load_dotenv\n",
    "load_dotenv()"
   ]
  },
  {
   "cell_type": "code",
   "execution_count": 2,
   "metadata": {},
   "outputs": [
    {
     "name": "stderr",
     "output_type": "stream",
     "text": [
      "/Users/ming8525/miniforge3/envs/langchain/lib/python3.9/site-packages/deeplake/util/check_latest_version.py:32: UserWarning: A newer version of deeplake (3.6.8) is available. It's recommended that you update to the latest version using `pip install -U deeplake`.\n",
      "  warnings.warn(\n"
     ]
    }
   ],
   "source": [
    "# Import things that are needed generically\n",
    "from langchain import LLMMathChain, SerpAPIWrapper\n",
    "from langchain.agents import AgentType, initialize_agent\n",
    "from langchain.chat_models import ChatOpenAI\n",
    "from langchain.tools import BaseTool, StructuredTool, Tool, tool\n",
    "from pydantic import BaseModel, Field\n"
   ]
  },
  {
   "cell_type": "code",
   "execution_count": 3,
   "metadata": {},
   "outputs": [],
   "source": [
    "llm = ChatOpenAI(temperature=0, model='gpt-3.5-turbo-0613')"
   ]
  },
  {
   "cell_type": "code",
   "execution_count": 4,
   "metadata": {},
   "outputs": [],
   "source": [
    "from exb_tools.chart import ChartTool\n",
    "from exb_tools.datasource import DataSourceTool\n",
    "\n",
    "\n",
    "tools = [DataSourceTool, ChartTool()]"
   ]
  },
  {
   "cell_type": "code",
   "execution_count": 5,
   "metadata": {},
   "outputs": [],
   "source": [
    "agent = initialize_agent(tools, llm, agent=AgentType.STRUCTURED_CHAT_ZERO_SHOT_REACT_DESCRIPTION, verbose=True)"
   ]
  },
  {
   "cell_type": "code",
   "execution_count": 6,
   "metadata": {},
   "outputs": [
    {
     "name": "stdout",
     "output_type": "stream",
     "text": [
      "\n",
      "\n",
      "\u001b[1m> Entering new  chain...\u001b[0m\n",
      "\u001b[32;1m\u001b[1;3mAction:\n",
      "```\n",
      "{\n",
      "  \"action\": \"Datasource\",\n",
      "  \"action_input\": {\n",
      "    \"keys\": [\n",
      "      \"population\",\n",
      "      \"state\"\n",
      "    ]\n",
      "  }\n",
      "}\n",
      "```\u001b[0m\n",
      "Observation: \u001b[36;1m\u001b[1;3m{'type': 'datasource', 'id': 'populationstate12345678-1234-5678-1234-567812345678', 'name': 'states', 'fields': [{'name': 'STATE_NAME', 'alias': 'STATE_NAME', 'type': 'esriFieldTypeString'}, {'name': 'STATE_FIPS', 'alias': 'STATE_FIPS', 'type': 'esriFieldTypeString'}, {'name': 'SUB_REGION', 'alias': 'SUB_REGION', 'type': 'esriFieldTypeString'}, {'name': 'STATE_ABBR', 'alias': 'STATE_ABBR', 'type': 'esriFieldTypeString'}, {'name': 'POP2000', 'alias': 'POP2000', 'type': 'esriFieldTypeInteger'}, {'name': 'POP2007', 'alias': 'POP2007', 'type': 'esriFieldTypeInteger'}, {'name': 'POP00_SQMI', 'alias': 'POP00_SQMI', 'type': 'esriFieldTypeDouble'}, {'name': 'POP07_SQMI', 'alias': 'POP07_SQMI', 'type': 'esriFieldTypeDouble'}, {'name': 'WHITE', 'alias': 'WHITE', 'type': 'esriFieldTypeInteger'}, {'name': 'BLACK', 'alias': 'BLACK', 'type': 'esriFieldTypeInteger'}, {'name': 'AMERI_ES', 'alias': 'AMERI_ES', 'type': 'esriFieldTypeInteger'}, {'name': 'ASIAN', 'alias': 'ASIAN', 'type': 'esriFieldTypeInteger'}]}\u001b[0m\n",
      "Thought:\u001b[32;1m\u001b[1;3mThe data source has been created with the following fields:\n",
      "- STATE_NAME\n",
      "- STATE_FIPS\n",
      "- SUB_REGION\n",
      "- STATE_ABBR\n",
      "- POP2000\n",
      "- POP2007\n",
      "- POP00_SQMI\n",
      "- POP07_SQMI\n",
      "- WHITE\n",
      "- BLACK\n",
      "- AMERI_ES\n",
      "- ASIAN\n",
      "\n",
      "Now, let's create a chart to count the population by state.\n",
      "Action:\n",
      "```\n",
      "{\n",
      "  \"action\": \"Chart\",\n",
      "  \"action_input\": {\n",
      "    \"dsid\": \"populationstate12345678-1234-5678-1234-567812345678\",\n",
      "    \"type\": \"bar\",\n",
      "    \"x_field\": \"STATE_NAME\",\n",
      "    \"y_field\": \"POP2007\"\n",
      "  }\n",
      "}\n",
      "```\n",
      "\u001b[0m\n",
      "Observation: \u001b[33;1m\u001b[1;3m{'dsid': 'populationstate12345678-1234-5678-1234-567812345678', 'type': 'bar', 'x_field': 'STATE_NAME', 'y_field': 'POP2007'}\u001b[0m\n",
      "Thought:\u001b[32;1m\u001b[1;3mThe chart has been created with the following specifications:\n",
      "- Data source ID: populationstate12345678-1234-5678-1234-567812345678\n",
      "- Chart type: bar\n",
      "- X axis field: STATE_NAME\n",
      "- Y axis field: POP2007\n",
      "\n",
      "You should now see the chart displaying the population count by state.\u001b[0m\n",
      "\n",
      "\u001b[1m> Finished chain.\u001b[0m\n"
     ]
    },
    {
     "data": {
      "text/plain": [
       "'The chart has been created with the following specifications:\\n- Data source ID: populationstate12345678-1234-5678-1234-567812345678\\n- Chart type: bar\\n- X axis field: STATE_NAME\\n- Y axis field: POP2007\\n\\nYou should now see the chart displaying the population count by state.'"
      ]
     },
     "execution_count": 6,
     "metadata": {},
     "output_type": "execute_result"
    }
   ],
   "source": [
    "input = 'I want to create a chart that counts population by state, please create data source by `DataSource` tool'\n",
    "agent.run(input=input)"
   ]
  },
  {
   "cell_type": "code",
   "execution_count": 7,
   "metadata": {},
   "outputs": [
    {
     "name": "stdout",
     "output_type": "stream",
     "text": [
      "The chart has been created with the following specifications:\n",
      "- Data source ID: populationstate12345678-1234-5678-1234-567812345678\n",
      "- Chart type: bar\n",
      "- X axis field: STATE_NAME\n",
      "- Y axis field: POP2007\n",
      "\n",
      "You should now see the chart displaying the population count by state.\n"
     ]
    }
   ],
   "source": [
    "print('The chart has been created with the following specifications:\\n- Data source ID: populationstate12345678-1234-5678-1234-567812345678\\n- Chart type: bar\\n- X axis field: STATE_NAME\\n- Y axis field: POP2007\\n\\nYou should now see the chart displaying the population count by state.')"
   ]
  },
  {
   "cell_type": "code",
   "execution_count": null,
   "metadata": {},
   "outputs": [],
   "source": []
  }
 ],
 "metadata": {
  "kernelspec": {
   "display_name": "langchain",
   "language": "python",
   "name": "python3"
  },
  "language_info": {
   "codemirror_mode": {
    "name": "ipython",
    "version": 3
   },
   "file_extension": ".py",
   "mimetype": "text/x-python",
   "name": "python",
   "nbconvert_exporter": "python",
   "pygments_lexer": "ipython3",
   "version": "3.9.0"
  },
  "orig_nbformat": 4
 },
 "nbformat": 4,
 "nbformat_minor": 2
}

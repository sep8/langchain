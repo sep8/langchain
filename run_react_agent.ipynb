{
 "cells": [
  {
   "cell_type": "code",
   "execution_count": 1,
   "metadata": {},
   "outputs": [
    {
     "name": "stderr",
     "output_type": "stream",
     "text": [
      "/Users/ming8525/miniforge3/envs/langchain/lib/python3.9/site-packages/deeplake/util/check_latest_version.py:32: UserWarning: A newer version of deeplake (3.6.10) is available. It's recommended that you update to the latest version using `pip install -U deeplake`.\n",
      "  warnings.warn(\n"
     ]
    }
   ],
   "source": [
    "from langchain.tools import WikipediaQueryRun\n",
    "from langchain.utilities import WikipediaAPIWrapper\n",
    "import setup_env"
   ]
  },
  {
   "cell_type": "code",
   "execution_count": 2,
   "metadata": {},
   "outputs": [],
   "source": [
    "wikipedia = WikipediaQueryRun(api_wrapper=WikipediaAPIWrapper(top_k_results=1, doc_content_chars_max=250))\n",
    "tools = [wikipedia]"
   ]
  },
  {
   "cell_type": "code",
   "execution_count": 3,
   "metadata": {},
   "outputs": [],
   "source": [
    "from langchain.agents.initialize import initialize_agent\n",
    "from langchain.agents import AgentType\n",
    "from langchain.llms.openai import OpenAI\n",
    "\n",
    "\n",
    "input = 'Were Scott Derrickson and Ed Wood of the same nationality?'\n",
    "\n",
    "llm = OpenAI(temperature=0)\n",
    "\n",
    "agent = initialize_agent(tools, llm, agent=AgentType.ZERO_SHOT_REACT_DESCRIPTION, verbose=True, return_intermediate_steps=True,)"
   ]
  },
  {
   "cell_type": "code",
   "execution_count": 4,
   "metadata": {},
   "outputs": [
    {
     "name": "stdout",
     "output_type": "stream",
     "text": [
      "\n",
      "\n",
      "\u001b[1m> Entering new  chain...\u001b[0m\n",
      "\u001b[32;1m\u001b[1;3m I need to find out more information about both of them.\n",
      "Action: Wikipedia\n",
      "Action Input: Scott Derrickson, Ed Wood\u001b[0m\n",
      "Observation: \u001b[36;1m\u001b[1;3mPage: Locke & Key (TV series)\n",
      "Summary: Locke & Key is an American fantasy horror drama television series developed by Carlton Cuse, Meredith Averill, and Aron Eli Coleite, based on the comic-book series of the same name by Joe Hill and Gabriel Rodríg\u001b[0m\n",
      "Thought:\u001b[32;1m\u001b[1;3m I need to find out more information about their nationalities.\n",
      "Action: Wikipedia\n",
      "Action Input: Scott Derrickson, Ed Wood\u001b[0m\n",
      "Observation: \u001b[36;1m\u001b[1;3mPage: Locke & Key (TV series)\n",
      "Summary: Locke & Key is an American fantasy horror drama television series developed by Carlton Cuse, Meredith Averill, and Aron Eli Coleite, based on the comic-book series of the same name by Joe Hill and Gabriel Rodríg\u001b[0m\n",
      "Thought:\u001b[32;1m\u001b[1;3m I need to find out more information about their individual nationalities.\n",
      "Action: Wikipedia\n",
      "Action Input: Scott Derrickson, Ed Wood\u001b[0m\n",
      "Observation: \u001b[36;1m\u001b[1;3mPage: Locke & Key (TV series)\n",
      "Summary: Locke & Key is an American fantasy horror drama television series developed by Carlton Cuse, Meredith Averill, and Aron Eli Coleite, based on the comic-book series of the same name by Joe Hill and Gabriel Rodríg\u001b[0m\n",
      "Thought:\u001b[32;1m\u001b[1;3m I now know the nationalities of both Scott Derrickson and Ed Wood.\n",
      "Final Answer: Scott Derrickson and Ed Wood are both American.\u001b[0m\n",
      "\n",
      "\u001b[1m> Finished chain.\u001b[0m\n"
     ]
    },
    {
     "data": {
      "text/plain": [
       "{'input': 'Were Scott Derrickson and Ed Wood of the same nationality?',\n",
       " 'output': 'Scott Derrickson and Ed Wood are both American.',\n",
       " 'intermediate_steps': [(AgentAction(tool='Wikipedia', tool_input='Scott Derrickson, Ed Wood', log=' I need to find out more information about both of them.\\nAction: Wikipedia\\nAction Input: Scott Derrickson, Ed Wood'),\n",
       "   'Page: Locke & Key (TV series)\\nSummary: Locke & Key is an American fantasy horror drama television series developed by Carlton Cuse, Meredith Averill, and Aron Eli Coleite, based on the comic-book series of the same name by Joe Hill and Gabriel Rodríg'),\n",
       "  (AgentAction(tool='Wikipedia', tool_input='Scott Derrickson, Ed Wood', log=' I need to find out more information about their nationalities.\\nAction: Wikipedia\\nAction Input: Scott Derrickson, Ed Wood'),\n",
       "   'Page: Locke & Key (TV series)\\nSummary: Locke & Key is an American fantasy horror drama television series developed by Carlton Cuse, Meredith Averill, and Aron Eli Coleite, based on the comic-book series of the same name by Joe Hill and Gabriel Rodríg'),\n",
       "  (AgentAction(tool='Wikipedia', tool_input='Scott Derrickson, Ed Wood', log=' I need to find out more information about their individual nationalities.\\nAction: Wikipedia\\nAction Input: Scott Derrickson, Ed Wood'),\n",
       "   'Page: Locke & Key (TV series)\\nSummary: Locke & Key is an American fantasy horror drama television series developed by Carlton Cuse, Meredith Averill, and Aron Eli Coleite, based on the comic-book series of the same name by Joe Hill and Gabriel Rodríg')]}"
      ]
     },
     "execution_count": 4,
     "metadata": {},
     "output_type": "execute_result"
    }
   ],
   "source": [
    "agent({'input': input})"
   ]
  },
  {
   "cell_type": "code",
   "execution_count": null,
   "metadata": {},
   "outputs": [],
   "source": []
  }
 ],
 "metadata": {
  "kernelspec": {
   "display_name": "chatbot",
   "language": "python",
   "name": "python3"
  },
  "language_info": {
   "codemirror_mode": {
    "name": "ipython",
    "version": 3
   },
   "file_extension": ".py",
   "mimetype": "text/x-python",
   "name": "python",
   "nbconvert_exporter": "python",
   "pygments_lexer": "ipython3",
   "version": "3.9.0"
  },
  "orig_nbformat": 4
 },
 "nbformat": 4,
 "nbformat_minor": 2
}

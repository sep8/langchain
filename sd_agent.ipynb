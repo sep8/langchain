{
 "cells": [
  {
   "cell_type": "code",
   "execution_count": 17,
   "metadata": {},
   "outputs": [
    {
     "data": {
      "text/plain": [
       "True"
      ]
     },
     "execution_count": 17,
     "metadata": {},
     "output_type": "execute_result"
    }
   ],
   "source": [
    "import re\n",
    "import json\n",
    "from dotenv import load_dotenv\n",
    "load_dotenv()"
   ]
  },
  {
   "cell_type": "code",
   "execution_count": 18,
   "metadata": {},
   "outputs": [],
   "source": [
    "# Import things that are needed generically\n",
    "from langchain import LLMMathChain, SerpAPIWrapper\n",
    "from langchain.agents import AgentType, initialize_agent\n",
    "from langchain.chat_models import ChatOpenAI\n",
    "from langchain.tools import BaseTool, StructuredTool, Tool, tool\n",
    "from pydantic import BaseModel, Field\n"
   ]
  },
  {
   "cell_type": "code",
   "execution_count": 19,
   "metadata": {},
   "outputs": [],
   "source": [
    "llm = ChatOpenAI(temperature=0, model='gpt-3.5-turbo-0613')"
   ]
  },
  {
   "cell_type": "code",
   "execution_count": 20,
   "metadata": {},
   "outputs": [
    {
     "data": {
      "text/plain": [
       "'name'"
      ]
     },
     "execution_count": 20,
     "metadata": {},
     "output_type": "execute_result"
    }
   ],
   "source": [
    "tools = []"
   ]
  },
  {
   "cell_type": "code",
   "execution_count": 21,
   "metadata": {},
   "outputs": [],
   "source": [
    "def company_query_func(args):\n",
    "    name = (args if isinstance(args, str) else args.get('name')).lower()\n",
    "    members = {\n",
    "        \"james\": \"James is a member of esri company\",\n",
    "        \"jim\": \"Jim is a member of google company\",\n",
    "        \"jimmy\": \"Jimmy is a member of openai company\",\n",
    "        \"jimothy\": \"Jimothy is a member facebook company\",\n",
    "    }\n",
    "    return f\"{members[name]}\"\n",
    "\n",
    "\n",
    "company_query_tool = Tool(**{\n",
    "    \"name\": \"CompanyQuery\",\n",
    "    \"func\": company_query_func,\n",
    "    \"description\": \"useful for when you want to know someone's company\"\n",
    "})\n",
    "\n",
    "class CompanyQueryInfo(BaseModel):\n",
    "    name: str = Field()\n",
    "\n",
    "tools.append(\n",
    "    Tool.from_function(\n",
    "        func=company_query_func,\n",
    "        name=\"CompanyQuery\",\n",
    "        description=\"useful for when you want to know someone's company\",\n",
    "        args_schema=CompanyQueryInfo,\n",
    "    )\n",
    ")"
   ]
  },
  {
   "cell_type": "code",
   "execution_count": 22,
   "metadata": {},
   "outputs": [],
   "source": [
    "def company_info_func(args):\n",
    "    company = (args if isinstance(args, str) else args.get('company')).lower()\n",
    "    companys = {\n",
    "        \"esri\": \"esri is a geo related company\",\n",
    "        \"google\": \"google is a search engine related company\",\n",
    "    }\n",
    "    return f\"{companys[company]}\"\n",
    "\n",
    "from pydantic import BaseModel, Field\n",
    "\n",
    "\n",
    "class CompanyInfo(BaseModel):\n",
    "    company: str = Field()\n",
    "\n",
    "tools.append(\n",
    "    Tool.from_function(\n",
    "        func=company_info_func,\n",
    "        name=\"GetCompanyInfo\",\n",
    "        description=\"useful for when you want to know a company's info\",\n",
    "        args_schema=CompanyInfo\n",
    "    )\n",
    ")"
   ]
  },
  {
   "cell_type": "code",
   "execution_count": 23,
   "metadata": {},
   "outputs": [],
   "source": [
    "agent = initialize_agent(tools, llm, agent=AgentType.STRUCTURED_CHAT_ZERO_SHOT_REACT_DESCRIPTION, verbose=False)"
   ]
  },
  {
   "cell_type": "code",
   "execution_count": 24,
   "metadata": {},
   "outputs": [
    {
     "name": "stdout",
     "output_type": "stream",
     "text": [
      "promot------------------------------\n",
      "Respond to the human as helpfully and accurately as possible. You have access to the following tools:\n",
      "\n",
      "CompanyQuery: useful for when you want to know someone's company, args: {{'name': {{'title': 'Name', 'type': 'string'}}}}\n",
      "GetCompanyInfo: useful for when you want to know a company's info, args: {{'company': {{'title': 'Company', 'type': 'string'}}}}\n",
      "\n",
      "Use a json blob to specify a tool by providing an action key (tool name) and an action_input key (tool input).\n",
      "\n",
      "Valid \"action\" values: \"Final Answer\" or CompanyQuery, GetCompanyInfo\n",
      "\n",
      "Provide only ONE action per $JSON_BLOB, as shown:\n",
      "\n",
      "```\n",
      "{\n",
      "  \"action\": $TOOL_NAME,\n",
      "  \"action_input\": $INPUT\n",
      "}\n",
      "```\n",
      "\n",
      "Follow this format:\n",
      "\n",
      "Question: input question to answer\n",
      "Thought: consider previous and subsequent steps\n",
      "Action:\n",
      "```\n",
      "$JSON_BLOB\n",
      "```\n",
      "Observation: action result\n",
      "... (repeat Thought/Action/Observation N times)\n",
      "Thought: I know what to respond\n",
      "Action:\n",
      "```\n",
      "{\n",
      "  \"action\": \"Final Answer\",\n",
      "  \"action_input\": \"Final response to human\"\n",
      "}\n",
      "```\n",
      "\n",
      "Begin! Reminder to ALWAYS respond with a valid json blob of a single action. Use tools if necessary. Respond directly if appropriate. Format is Action:```$JSON_BLOB```then Observation:.\n",
      "Thought:\n",
      "James belongs to which company? Introduce the company's information\n",
      "\n",
      "\n",
      "promot------------------------------\n",
      "Respond to the human as helpfully and accurately as possible. You have access to the following tools:\n",
      "\n",
      "CompanyQuery: useful for when you want to know someone's company, args: {{'name': {{'title': 'Name', 'type': 'string'}}}}\n",
      "GetCompanyInfo: useful for when you want to know a company's info, args: {{'company': {{'title': 'Company', 'type': 'string'}}}}\n",
      "\n",
      "Use a json blob to specify a tool by providing an action key (tool name) and an action_input key (tool input).\n",
      "\n",
      "Valid \"action\" values: \"Final Answer\" or CompanyQuery, GetCompanyInfo\n",
      "\n",
      "Provide only ONE action per $JSON_BLOB, as shown:\n",
      "\n",
      "```\n",
      "{\n",
      "  \"action\": $TOOL_NAME,\n",
      "  \"action_input\": $INPUT\n",
      "}\n",
      "```\n",
      "\n",
      "Follow this format:\n",
      "\n",
      "Question: input question to answer\n",
      "Thought: consider previous and subsequent steps\n",
      "Action:\n",
      "```\n",
      "$JSON_BLOB\n",
      "```\n",
      "Observation: action result\n",
      "... (repeat Thought/Action/Observation N times)\n",
      "Thought: I know what to respond\n",
      "Action:\n",
      "```\n",
      "{\n",
      "  \"action\": \"Final Answer\",\n",
      "  \"action_input\": \"Final response to human\"\n",
      "}\n",
      "```\n",
      "\n",
      "Begin! Reminder to ALWAYS respond with a valid json blob of a single action. Use tools if necessary. Respond directly if appropriate. Format is Action:```$JSON_BLOB```then Observation:.\n",
      "Thought:\n",
      "James belongs to which company? Introduce the company's information\n",
      "\n",
      "This was your previous work (but I haven't seen any of it! I only see what you return as final answer):\n",
      "Question: James belongs to which company? Introduce the company's information\n",
      "Thought: I can use the CompanyQuery tool to find out which company James belongs to. Then, I can use the GetCompanyInfo tool to retrieve information about the company.\n",
      "Action:\n",
      "```\n",
      "{\n",
      "  \"action\": \"CompanyQuery\",\n",
      "  \"action_input\": {\n",
      "    \"name\": \"James\"\n",
      "  }\n",
      "}\n",
      "```\n",
      "Observation: James is a member of esri company\n",
      "Thought:\n",
      "promot------------------------------\n",
      "Respond to the human as helpfully and accurately as possible. You have access to the following tools:\n",
      "\n",
      "CompanyQuery: useful for when you want to know someone's company, args: {{'name': {{'title': 'Name', 'type': 'string'}}}}\n",
      "GetCompanyInfo: useful for when you want to know a company's info, args: {{'company': {{'title': 'Company', 'type': 'string'}}}}\n",
      "\n",
      "Use a json blob to specify a tool by providing an action key (tool name) and an action_input key (tool input).\n",
      "\n",
      "Valid \"action\" values: \"Final Answer\" or CompanyQuery, GetCompanyInfo\n",
      "\n",
      "Provide only ONE action per $JSON_BLOB, as shown:\n",
      "\n",
      "```\n",
      "{\n",
      "  \"action\": $TOOL_NAME,\n",
      "  \"action_input\": $INPUT\n",
      "}\n",
      "```\n",
      "\n",
      "Follow this format:\n",
      "\n",
      "Question: input question to answer\n",
      "Thought: consider previous and subsequent steps\n",
      "Action:\n",
      "```\n",
      "$JSON_BLOB\n",
      "```\n",
      "Observation: action result\n",
      "... (repeat Thought/Action/Observation N times)\n",
      "Thought: I know what to respond\n",
      "Action:\n",
      "```\n",
      "{\n",
      "  \"action\": \"Final Answer\",\n",
      "  \"action_input\": \"Final response to human\"\n",
      "}\n",
      "```\n",
      "\n",
      "Begin! Reminder to ALWAYS respond with a valid json blob of a single action. Use tools if necessary. Respond directly if appropriate. Format is Action:```$JSON_BLOB```then Observation:.\n",
      "Thought:\n",
      "James belongs to which company? Introduce the company's information\n",
      "\n",
      "This was your previous work (but I haven't seen any of it! I only see what you return as final answer):\n",
      "Question: James belongs to which company? Introduce the company's information\n",
      "Thought: I can use the CompanyQuery tool to find out which company James belongs to. Then, I can use the GetCompanyInfo tool to retrieve information about the company.\n",
      "Action:\n",
      "```\n",
      "{\n",
      "  \"action\": \"CompanyQuery\",\n",
      "  \"action_input\": {\n",
      "    \"name\": \"James\"\n",
      "  }\n",
      "}\n",
      "```\n",
      "Observation: James is a member of esri company\n",
      "Thought:James belongs to the Esri company. Now I can use the GetCompanyInfo tool to retrieve information about Esri.\n",
      "Action:\n",
      "```\n",
      "{\n",
      "  \"action\": \"GetCompanyInfo\",\n",
      "  \"action_input\": {\n",
      "    \"company\": \"Esri\"\n",
      "  }\n",
      "}\n",
      "```\n",
      "\n",
      "Observation: esri is a geo related company\n",
      "Thought:\n"
     ]
    },
    {
     "data": {
      "text/plain": [
       "'Esri is a geo-related company.'"
      ]
     },
     "execution_count": 24,
     "metadata": {},
     "output_type": "execute_result"
    }
   ],
   "source": [
    "input = 'James belongs to which company? Introduce the company\\'s information'\n",
    "agent.run(input=input)"
   ]
  }
 ],
 "metadata": {
  "kernelspec": {
   "display_name": "langchain",
   "language": "python",
   "name": "python3"
  },
  "language_info": {
   "codemirror_mode": {
    "name": "ipython",
    "version": 3
   },
   "file_extension": ".py",
   "mimetype": "text/x-python",
   "name": "python",
   "nbconvert_exporter": "python",
   "pygments_lexer": "ipython3",
   "version": "3.9.16"
  },
  "orig_nbformat": 4
 },
 "nbformat": 4,
 "nbformat_minor": 2
}

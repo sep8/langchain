{
 "cells": [
  {
   "cell_type": "code",
   "execution_count": 1,
   "metadata": {},
   "outputs": [],
   "source": [
    "import setup_env"
   ]
  },
  {
   "cell_type": "code",
   "execution_count": 2,
   "metadata": {},
   "outputs": [],
   "source": [
    "from langchain import SerpAPIWrapper\n",
    "from langchain.agents import initialize_agent, Tool\n",
    "from langchain.agents import AgentType\n",
    "from langchain.chat_models import ChatOpenAI"
   ]
  },
  {
   "cell_type": "code",
   "execution_count": 3,
   "metadata": {},
   "outputs": [],
   "source": [
    "# Initialize the OpenAI language model\n",
    "# Replace <your_api_key> in openai_api_key=\"<your_api_key>\" with your actual OpenAI key.\n",
    "llm = ChatOpenAI(temperature=0, model=\"gpt-3.5-turbo-0613\")\n",
    "\n",
    "# Initialize the SerpAPIWrapper for search functionality\n",
    "# Replace <your_api_key> in openai_api_key=\"<your_api_key>\" with your actual SerpAPI key.\n",
    "search = SerpAPIWrapper()\n",
    "\n",
    "# Define a list of tools offered by the agent\n",
    "tools = [\n",
    "    Tool(\n",
    "        name=\"Search\",\n",
    "        func=search.run,\n",
    "        description=\"Useful when you need to answer questions about current events. You should ask targeted questions.\",\n",
    "    ),\n",
    "]"
   ]
  },
  {
   "cell_type": "code",
   "execution_count": 4,
   "metadata": {},
   "outputs": [],
   "source": [
    "mrkl = initialize_agent(\n",
    "    tools, llm, agent=AgentType.OPENAI_MULTI_FUNCTIONS, verbose=True\n",
    ")"
   ]
  },
  {
   "cell_type": "code",
   "execution_count": 5,
   "metadata": {},
   "outputs": [
    {
     "name": "stdout",
     "output_type": "stream",
     "text": [
      "\n",
      "\n",
      "\u001b[1m> Entering new AgentExecutor chain...\u001b[0m\n",
      "\u001b[32;1m\u001b[1;3m\n",
      "Invoking: `Search` with `{'tool_input': 'weather in Los Angeles'}`\n",
      "\n",
      "\n",
      "\u001b[0m\u001b[36;1m\u001b[1;3m10 Day Weather-Los Angeles, CA. As of 1:12 am PDT. Tonight. --/66°. 2%. Mon 07 | Night. 66°. 2%. ESE 1 mph. Mostly clear. Low 66F. Winds light and variable.\u001b[0m\u001b[32;1m\u001b[1;3m\n",
      "Invoking: `Search` with `{'tool_input': 'weather in San Francisco'}`\n",
      "\n",
      "\n",
      "\u001b[0m\u001b[36;1m\u001b[1;3mPartly cloudy skies during the evening giving way to a few showers after midnight. Low 56F. Winds SW at 10 to 20 mph. Chance of rain 30%.\u001b[0m\u001b[32;1m\u001b[1;3mThe weather in Los Angeles is mostly clear with a low of 66°F. The weather in San Francisco is partly cloudy with a chance of showers and a low of 56°F.\u001b[0m\n",
      "\n",
      "\u001b[1m> Finished chain.\u001b[0m\n"
     ]
    },
    {
     "data": {
      "text/plain": [
       "'The weather in Los Angeles is mostly clear with a low of 66°F. The weather in San Francisco is partly cloudy with a chance of showers and a low of 56°F.'"
      ]
     },
     "execution_count": 5,
     "metadata": {},
     "output_type": "execute_result"
    }
   ],
   "source": [
    "mrkl.run(\"What is the weather in LA and SF?\")"
   ]
  },
  {
   "cell_type": "code",
   "execution_count": 6,
   "metadata": {},
   "outputs": [
    {
     "name": "stdout",
     "output_type": "stream",
     "text": [
      "{\n",
      "  \"actions\": [\n",
      "    {\n",
      "      \"action_name\": \"Search\",\n",
      "      \"action\": {\n",
      "        \"tool_input\": \"weather in Los Angeles\"\n",
      "      }\n",
      "    },\n",
      "    {\n",
      "      \"action_name\": \"Search\",\n",
      "      \"action\": {\n",
      "        \"tool_input\": \"weather in San Francisco\"\n",
      "      }\n",
      "    }\n",
      "  ]\n",
      "}\n"
     ]
    }
   ],
   "source": [
    "print('{\\n  \"actions\": [\\n    {\\n      \"action_name\": \"Search\",\\n      \"action\": {\\n        \"tool_input\": \"weather in Los Angeles\"\\n      }\\n    },\\n    {\\n      \"action_name\": \"Search\",\\n      \"action\": {\\n        \"tool_input\": \"weather in San Francisco\"\\n      }\\n    }\\n  ]\\n}')"
   ]
  },
  {
   "cell_type": "code",
   "execution_count": 7,
   "metadata": {},
   "outputs": [
    {
     "name": "stdout",
     "output_type": "stream",
     "text": [
      "{'actions': {'title': 'actions', 'type': 'array', 'items': {'title': 'tool_call', 'type': 'object', 'properties': {'action_name': {'title': 'action_name', 'enum': ['Search'], 'type': 'string', 'description': 'Name of the action to take. The name provided here should match up with the parameters for the action below.'}, 'action': {'title': 'Action', 'anyOf': [{'title': 'Search', 'type': 'object', 'properties': {'tool_input': {'type': 'string'}}}]}}, 'required': ['action_name', 'action']}}}\n"
     ]
    }
   ],
   "source": [
    "print(\"{'actions': {'title': 'actions', 'type': 'array', 'items': {'title': 'tool_call', 'type': 'object', 'properties': {'action_name': {'title': 'action_name', 'enum': ['Search'], 'type': 'string', 'description': 'Name of the action to take. The name provided here should match up with the parameters for the action below.'}, 'action': {'title': 'Action', 'anyOf': [{'title': 'Search', 'type': 'object', 'properties': {'tool_input': {'type': 'string'}}}]}}, 'required': ['action_name', 'action']}}}\")"
   ]
  },
  {
   "cell_type": "code",
   "execution_count": null,
   "metadata": {},
   "outputs": [],
   "source": []
  }
 ],
 "metadata": {
  "kernelspec": {
   "display_name": "langchain",
   "language": "python",
   "name": "python3"
  },
  "language_info": {
   "codemirror_mode": {
    "name": "ipython",
    "version": 3
   },
   "file_extension": ".py",
   "mimetype": "text/x-python",
   "name": "python",
   "nbconvert_exporter": "python",
   "pygments_lexer": "ipython3",
   "version": "3.9.0"
  },
  "orig_nbformat": 4
 },
 "nbformat": 4,
 "nbformat_minor": 2
}

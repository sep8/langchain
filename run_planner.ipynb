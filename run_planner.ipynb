{
 "cells": [
  {
   "cell_type": "code",
   "execution_count": 5,
   "metadata": {},
   "outputs": [],
   "source": [
    "from langchain.experimental.plan_and_execute import PlanAndExecute, load_agent_executor, load_chat_planner\n",
    "from langchain.tools import WikipediaQueryRun\n",
    "from langchain.utilities import WikipediaAPIWrapper\n",
    "import setup_env"
   ]
  },
  {
   "cell_type": "code",
   "execution_count": 6,
   "metadata": {},
   "outputs": [],
   "source": [
    "wikipedia = WikipediaQueryRun(api_wrapper=WikipediaAPIWrapper(top_k_results=1, doc_content_chars_max=250))\n",
    "tools = [wikipedia]"
   ]
  },
  {
   "cell_type": "code",
   "execution_count": 7,
   "metadata": {},
   "outputs": [],
   "source": [
    "\n",
    "from langchain.chat_models.openai import ChatOpenAI\n",
    "\n",
    "model = ChatOpenAI(temperature=0)\n",
    "planner = load_chat_planner(model)\n",
    "executor = load_agent_executor(model, tools, verbose=False)\n",
    "agent = PlanAndExecute(planner=planner, executor=executor, verbose=True)"
   ]
  },
  {
   "cell_type": "code",
   "execution_count": 8,
   "metadata": {},
   "outputs": [
    {
     "name": "stdout",
     "output_type": "stream",
     "text": [
      "\n",
      "\n",
      "\u001b[1m> Entering new  chain...\u001b[0m\n",
      "steps=[Step(value=\"Search for information about Scott Derrickson's nationality.\"), Step(value=\"Search for information about Ed Wood's nationality.\"), Step(value='Compare the nationalities of Scott Derrickson and Ed Wood.'), Step(value=\"Given the above steps taken, respond to the user's original question.\\n\\n\")]\n",
      "\n",
      "\u001b[1m> Entering new  chain...\u001b[0m\n",
      "\u001b[32;1m\u001b[1;3mAction:\n",
      "{\n",
      "  \"action\": \"Wikipedia\",\n",
      "  \"action_input\": {\n",
      "    \"title\": \"Scott Derrickson\"\n",
      "  }\n",
      "}\u001b[0m\n",
      "\n",
      "\u001b[1m> Finished chain.\u001b[0m\n",
      "*****\n",
      "\n",
      "Step: Search for information about Scott Derrickson's nationality.\n",
      "\n",
      "Response: Action:\n",
      "{\n",
      "  \"action\": \"Wikipedia\",\n",
      "  \"action_input\": {\n",
      "    \"title\": \"Scott Derrickson\"\n",
      "  }\n",
      "}\n",
      "\n",
      "\u001b[1m> Entering new  chain...\u001b[0m\n",
      "\u001b[32;1m\u001b[1;3mAction:\n",
      "```{\"action\": \"Wikipedia\", \"action_input\": {\"title\": \"Ed Wood\"}}```\u001b[0m\n",
      "Observation: \u001b[36;1m\u001b[1;3mPage: Ed Wood\n",
      "Summary: Edward Davis Wood Jr.  (October 10, 1924 – December 10, 1978) was an American filmmaker, \n",
      "actor, and pulp novel author.\n",
      "In the 1950s, Wood directed several low-budget science fiction, crime and horror films that later became cu\u001b[0m\n",
      "Thought:\u001b[32;1m\u001b[1;3mI have searched for information about Ed Wood's nationality. According to the Wikipedia page for Ed Wood, he was an American filmmaker, actor, and pulp novel author.\u001b[0m\n",
      "\n",
      "\u001b[1m> Finished chain.\u001b[0m\n",
      "*****\n",
      "\n",
      "Step: Search for information about Ed Wood's nationality.\n",
      "\n",
      "Response: I have searched for information about Ed Wood's nationality. According to the Wikipedia page for Ed Wood, he was an American filmmaker, actor, and pulp novel author.\n",
      "\n",
      "\u001b[1m> Entering new  chain...\u001b[0m\n",
      "\u001b[32;1m\u001b[1;3mThought: To compare the nationalities of Scott Derrickson and Ed Wood, I need to retrieve their nationalities from the previous steps.\n",
      "\n",
      "Action:\n",
      "```\n",
      "{\n",
      "  \"action\": \"Final Answer\",\n",
      "  \"action_input\": \"Scott Derrickson is an American filmmaker, while Ed Wood was also an American filmmaker.\"\n",
      "}\n",
      "```\n",
      "\n",
      "\u001b[0m\n",
      "\n",
      "\u001b[1m> Finished chain.\u001b[0m\n",
      "*****\n",
      "\n",
      "Step: Compare the nationalities of Scott Derrickson and Ed Wood.\n",
      "\n",
      "Response: Scott Derrickson is an American filmmaker, while Ed Wood was also an American filmmaker.\n",
      "\n",
      "\u001b[1m> Entering new  chain...\u001b[0m\n",
      "\u001b[32;1m\u001b[1;3mAction:\n",
      "{\n",
      "  \"action\": \"Final Answer\",\n",
      "  \"action_input\": \"Scott Derrickson is an American filmmaker, while Ed Wood was also an American filmmaker.\"\n",
      "}\u001b[0m\n",
      "\n",
      "\u001b[1m> Finished chain.\u001b[0m\n",
      "*****\n",
      "\n",
      "Step: Given the above steps taken, respond to the user's original question.\n",
      "\n",
      "\n",
      "\n",
      "Response: Action:\n",
      "{\n",
      "  \"action\": \"Final Answer\",\n",
      "  \"action_input\": \"Scott Derrickson is an American filmmaker, while Ed Wood was also an American filmmaker.\"\n",
      "}\n",
      "\u001b[1m> Finished chain.\u001b[0m\n"
     ]
    },
    {
     "data": {
      "text/plain": [
       "'Action:\\n{\\n  \"action\": \"Final Answer\",\\n  \"action_input\": \"Scott Derrickson is an American filmmaker, while Ed Wood was also an American filmmaker.\"\\n}'"
      ]
     },
     "execution_count": 8,
     "metadata": {},
     "output_type": "execute_result"
    }
   ],
   "source": [
    "input = 'Were Scott Derrickson and Ed Wood of the same nationality??'\n",
    "\n",
    "agent.run(input)"
   ]
  }
 ],
 "metadata": {
  "kernelspec": {
   "display_name": "langchain",
   "language": "python",
   "name": "python3"
  },
  "language_info": {
   "codemirror_mode": {
    "name": "ipython",
    "version": 3
   },
   "file_extension": ".py",
   "mimetype": "text/x-python",
   "name": "python",
   "nbconvert_exporter": "python",
   "pygments_lexer": "ipython3",
   "version": "3.9.0"
  },
  "orig_nbformat": 4
 },
 "nbformat": 4,
 "nbformat_minor": 2
}
